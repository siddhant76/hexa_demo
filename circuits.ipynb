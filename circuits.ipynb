{
 "cells": [
  {
   "cell_type": "code",
   "execution_count": 2,
   "metadata": {},
   "outputs": [],
   "source": [
    "from pyspark.sql.functions import *\n",
    "\n",
    "from pyspark.sql import SparkSession\n",
    "\n",
    "spark = SparkSession \\\n",
    "    .builder \\\n",
    "    .appName(\"Python Spark SQL basic example\") \\\n",
    "    .config(\"spark.some.config.option\", \"some-value\") \\\n",
    "    .getOrCreate()"
   ]
  },
  {
   "cell_type": "code",
   "execution_count": 7,
   "metadata": {},
   "outputs": [],
   "source": [
    "df_emp= spark.read.csv(\"employees.csv\",header=True,inferSchema=True)"
   ]
  },
  {
   "cell_type": "code",
   "execution_count": 56,
   "metadata": {},
   "outputs": [
    {
     "name": "stdout",
     "output_type": "stream",
     "text": [
      "+-----------+----------+---------+--------+------------+---------+----------+------+--------------+----------+-------------+\n",
      "|EMPLOYEE_ID|FIRST_NAME|LAST_NAME|   EMAIL|PHONE_NUMBER|HIRE_DATE|    JOB_ID|SALARY|COMMISSION_PCT|MANAGER_ID|DEPARTMENT_ID|\n",
      "+-----------+----------+---------+--------+------------+---------+----------+------+--------------+----------+-------------+\n",
      "|        198|    Donald| OConnell|DOCONNEL|650.507.9833|21-JUN-07|  SH_CLERK|  2600|            - |       124|           50|\n",
      "|        199|   Douglas|    Grant|  DGRANT|650.507.9844|13-JAN-08|  SH_CLERK|  2600|            - |       124|           50|\n",
      "|        200|  Jennifer|   Whalen| JWHALEN|515.123.4444|17-SEP-03|   AD_ASST|  4400|            - |       101|           10|\n",
      "|        201|   Michael|Hartstein|MHARTSTE|515.123.5555|17-FEB-04|    MK_MAN| 13000|            - |       100|           20|\n",
      "|        202|       Pat|      Fay|    PFAY|603.123.6666|17-AUG-05|    MK_REP|  6000|            - |       201|           20|\n",
      "|        203|     Susan|   Mavris| SMAVRIS|515.123.7777|07-JUN-02|    HR_REP|  6500|            - |       101|           40|\n",
      "|        204|   Hermann|     Baer|   HBAER|515.123.8888|07-JUN-02|    PR_REP| 10000|            - |       101|           70|\n",
      "|        205|   Shelley|  Higgins|SHIGGINS|515.123.8080|07-JUN-02|    AC_MGR| 12008|            - |       101|          110|\n",
      "|        206|   William|    Gietz|  WGIETZ|515.123.8181|07-JUN-02|AC_ACCOUNT|  8300|            - |       205|          110|\n",
      "|        100|    Steven|     King|   SKING|515.123.4567|17-JUN-03|   AD_PRES| 24000|            - |        - |           90|\n",
      "+-----------+----------+---------+--------+------------+---------+----------+------+--------------+----------+-------------+\n",
      "only showing top 10 rows\n",
      "\n"
     ]
    }
   ],
   "source": [
    "df_emp.show(10)\n",
    "#df_emp.createTempView(\"employee\")\n",
    "\n",
    "df_manager = df_emp.select(concat_ws(' ',df_emp.FIRST_NAME,df_emp.LAST_NAME).alias(\"Manager_name\"),df_emp.EMPLOYEE_ID)\n"
   ]
  },
  {
   "cell_type": "code",
   "execution_count": 54,
   "metadata": {},
   "outputs": [
    {
     "name": "stdout",
     "output_type": "stream",
     "text": [
      "+-----------------+----------+\n",
      "|     Manager_name|MANAGER_ID|\n",
      "+-----------------+----------+\n",
      "|  Donald OConnell|       124|\n",
      "|    Douglas Grant|       124|\n",
      "|  Jennifer Whalen|       101|\n",
      "|Michael Hartstein|       100|\n",
      "|          Pat Fay|       201|\n",
      "|     Susan Mavris|       101|\n",
      "|     Hermann Baer|       101|\n",
      "|  Shelley Higgins|       101|\n",
      "|    William Gietz|       205|\n",
      "|      Steven King|        - |\n",
      "|    Neena Kochhar|       100|\n",
      "|      Lex De Haan|       100|\n",
      "| Alexander Hunold|       102|\n",
      "|      Bruce Ernst|       103|\n",
      "|     David Austin|       103|\n",
      "|  Valli Pataballa|       103|\n",
      "|    Diana Lorentz|       103|\n",
      "|  Nancy Greenberg|       101|\n",
      "|    Daniel Faviet|       108|\n",
      "|        John Chen|       108|\n",
      "+-----------------+----------+\n",
      "only showing top 20 rows\n",
      "\n"
     ]
    }
   ],
   "source": [
    "df_manager.show()"
   ]
  },
  {
   "cell_type": "code",
   "execution_count": 57,
   "metadata": {},
   "outputs": [],
   "source": [
    "df_join = df_emp\\\n",
    "            .join(df_manager,df_emp.MANAGER_ID==df_manager.EMPLOYEE_ID,'inner')\n",
    "#.select(\"emp\".EMPLOYEE_ID,\"man\".MANAGER_ID)"
   ]
  },
  {
   "cell_type": "code",
   "execution_count": 60,
   "metadata": {},
   "outputs": [
    {
     "name": "stdout",
     "output_type": "stream",
     "text": [
      "+-----------------+-----------------+\n",
      "|         emp_name|     Manager_name|\n",
      "+-----------------+-----------------+\n",
      "|  Donald OConnell|    Kevin Mourgos|\n",
      "|    Douglas Grant|    Kevin Mourgos|\n",
      "|  Jennifer Whalen|    Neena Kochhar|\n",
      "|Michael Hartstein|      Steven King|\n",
      "|          Pat Fay|Michael Hartstein|\n",
      "|     Susan Mavris|    Neena Kochhar|\n",
      "|     Hermann Baer|    Neena Kochhar|\n",
      "|  Shelley Higgins|    Neena Kochhar|\n",
      "|    William Gietz|  Shelley Higgins|\n",
      "|    Neena Kochhar|      Steven King|\n",
      "|      Lex De Haan|      Steven King|\n",
      "| Alexander Hunold|      Lex De Haan|\n",
      "|      Bruce Ernst| Alexander Hunold|\n",
      "|     David Austin| Alexander Hunold|\n",
      "|  Valli Pataballa| Alexander Hunold|\n",
      "|    Diana Lorentz| Alexander Hunold|\n",
      "|  Nancy Greenberg|    Neena Kochhar|\n",
      "|    Daniel Faviet|  Nancy Greenberg|\n",
      "|        John Chen|  Nancy Greenberg|\n",
      "|   Ismael Sciarra|  Nancy Greenberg|\n",
      "+-----------------+-----------------+\n",
      "only showing top 20 rows\n",
      "\n"
     ]
    }
   ],
   "source": [
    "df_join.select(concat_ws(' ',df_join.FIRST_NAME,df_join.LAST_NAME).alias(\"emp_name\"),df_join.Manager_name). show()"
   ]
  },
  {
   "cell_type": "code",
   "execution_count": 27,
   "metadata": {},
   "outputs": [
    {
     "name": "stdout",
     "output_type": "stream",
     "text": [
      "+-----------+-----------------+-----------------+----------+\n",
      "|employee_id|         emp_name|     Manager_name|manager_id|\n",
      "+-----------+-----------------+-----------------+----------+\n",
      "|        198|  Donald OConnell|    Kevin Mourgos|       100|\n",
      "|        199|    Douglas Grant|    Kevin Mourgos|       100|\n",
      "|        200|  Jennifer Whalen|    Neena Kochhar|       100|\n",
      "|        201|Michael Hartstein|      Steven King|        - |\n",
      "|        202|          Pat Fay|Michael Hartstein|       100|\n",
      "|        203|     Susan Mavris|    Neena Kochhar|       100|\n",
      "|        204|     Hermann Baer|    Neena Kochhar|       100|\n",
      "|        205|  Shelley Higgins|    Neena Kochhar|       100|\n",
      "|        206|    William Gietz|  Shelley Higgins|       101|\n",
      "|        101|    Neena Kochhar|      Steven King|        - |\n",
      "|        102|      Lex De Haan|      Steven King|        - |\n",
      "|        103| Alexander Hunold|      Lex De Haan|       100|\n",
      "|        104|      Bruce Ernst| Alexander Hunold|       102|\n",
      "|        105|     David Austin| Alexander Hunold|       102|\n",
      "|        106|  Valli Pataballa| Alexander Hunold|       102|\n",
      "|        107|    Diana Lorentz| Alexander Hunold|       102|\n",
      "|        108|  Nancy Greenberg|    Neena Kochhar|       100|\n",
      "|        109|    Daniel Faviet|  Nancy Greenberg|       101|\n",
      "|        110|        John Chen|  Nancy Greenberg|       101|\n",
      "|        111|   Ismael Sciarra|  Nancy Greenberg|       101|\n",
      "+-----------+-----------------+-----------------+----------+\n",
      "only showing top 20 rows\n",
      "\n"
     ]
    }
   ],
   "source": [
    "spark.sql('''\n",
    "Select  e.employee_id,concat(e.FIRST_NAME,' ',e.LAST_NAME) as emp_name , concat(m.FIRST_NAME,' ',m.LAST_NAME) as Manager_name,m.manager_id\n",
    "from employee e inner join \n",
    "employee m \n",
    "on e.manager_id = m.employee_id''').show()\n"
   ]
  },
  {
   "cell_type": "code",
   "execution_count": null,
   "metadata": {},
   "outputs": [],
   "source": []
  },
  {
   "cell_type": "code",
   "execution_count": null,
   "metadata": {},
   "outputs": [],
   "source": []
  }
 ],
 "metadata": {
  "interpreter": {
   "hash": "76ad95f14593b0a2fc24d0a09d92258fca1e0075874122d58dd1bae94a601e54"
  },
  "kernelspec": {
   "display_name": "Python 3.11.4 64-bit",
   "language": "python",
   "name": "python3"
  },
  "language_info": {
   "codemirror_mode": {
    "name": "ipython",
    "version": 3
   },
   "file_extension": ".py",
   "mimetype": "text/x-python",
   "name": "python",
   "nbconvert_exporter": "python",
   "pygments_lexer": "ipython3",
   "version": "3.11.4"
  },
  "orig_nbformat": 4
 },
 "nbformat": 4,
 "nbformat_minor": 2
}
